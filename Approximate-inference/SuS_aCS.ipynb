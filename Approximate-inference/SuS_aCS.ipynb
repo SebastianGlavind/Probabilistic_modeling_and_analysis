{
 "cells": [
  {
   "cell_type": "markdown",
   "id": "3ee4052a-a40c-458f-9bca-b5bcae05f032",
   "metadata": {},
   "source": [
    "# A TUTORIAL ON SUBSET SIMULATION WITH ADAPTIVE CONDITIONAL SAMPLING\n",
    "\n",
    "by Sebastian T. Glavind, December 2022"
   ]
  },
  {
   "cell_type": "code",
   "execution_count": 1,
   "id": "e4997290-a2cd-4ec1-827d-2279560ada5f",
   "metadata": {},
   "outputs": [
    {
     "name": "stdout",
     "output_type": "stream",
     "text": [
      "Versions: numpy,  1.23.3 ; scipy,  1.9.3\n"
     ]
    }
   ],
   "source": [
    "import numpy as np\n",
    "import scipy\n",
    "import scipy.stats as ss\n",
    "import matplotlib.pyplot as plt\n",
    "import SuStools as sust # import my subset simulation toolbox\n",
    "\n",
    "print('Versions: numpy, ', np.__version__,'; scipy, ', scipy.__version__)"
   ]
  },
  {
   "cell_type": "markdown",
   "id": "b47e2ba1-be68-4f5c-9635-9e0b57577215",
   "metadata": {},
   "source": [
    "# Introduction\n",
    "\n",
    "This tutorial introduces the subset simulation (SuS) algorithm for rare event sampling, which is an adaptive technique that is capable to handle high dimensional problems (Au & Beck, 2001; Au & Wang, 2014). SuS relies on Markov chain Monte Carlo (MCMC) simulation for efficiently generating conditional samples resulting in the targeted rare event, which we will refer to as the failure event. The primary property of the sample distribution resulting from MCMC simulation is that it either immediately resembles the target distribution, as for SuS, or converges to it as the Markov chain evolves, and thus statistical inferences made based on the sample distribution is asymptotically unbiased (Au & Wang, 2014). In SuS, the conditional samples immediately resemble the target distribution, as samples are drawn conditional on the failure event. We will use the efficient adaptive conditional sampling (aCS) algorithm of Papaioannou et al. (2015) as the MCMC engine, which operates in standard normal space. This, however, imposes no restricting on the applicability of the sampler, as any set of correlated random variables can be transformed to standard normal space using the probability integral transform. In engineering applications, the joint probability density function (PDF) is commonly modeled by a Gaussian copula (Nataf distribution), and thus the mapping to standard normal space is achieved through a marginal transformation.\n",
    "\n",
    "***\n",
    "Au, S., Beck, J. (2001). Estimation of small failure probabilities in high dimensions by subset simulation, Probabilistic Engineering Mechanics, 16, 263–277.\n",
    "\n",
    "Au, S. K., & Wang, Y. (2014). Engineering risk assessment with subset simulation. John Wiley & Sons.\n",
    "\n",
    "Papaioannou, I., Betz, W., Zwirglmaier, K., & Straub, D. (2015). MCMC algorithms for subset simulation. Probabilistic Engineering Mechanics, 41, 89-103.\n",
    "***"
   ]
  },
  {
   "cell_type": "markdown",
   "id": "cc80a02b-e224-473e-a912-49ba97461f16",
   "metadata": {},
   "source": [
    "# Subset simulation\n",
    "\n",
    "We considere the probability of failure $P_F$, defined by the following M-fold integral:\n",
    "$$\n",
    "P_F = \\int_{g(x) \\leq 0} p_X(x) dx,\n",
    "$$\n",
    "where $X$ is a random vector of dimension M representing the system variables, $p_X(x)$ is the joint PDF of $X$, and $g(x) \\leq 0$ defines failure of the system through the limit-state-function $g(x)$, which is a scalar function encoding one or several distinct failure modes. The basic idea of SuS is to compose a small probability $P_F$ into a product of larger conditional probabilities using the chain rule of probability theory. The failure region is thus defined as $F=\\{x \\in \\mathbb{R}^M: g(x)\\leq b\\}$ for $b=0$. Thus, it may be expressed as the intersection of $J$ intermediate failure events $F_j$ as\n",
    "$$\n",
    "\\begin{equation}\n",
    "F=\\bigcap_{j=1}^{J} F_j,\\quad j=1,\\dots,J\n",
    "\\end{equation}\n",
    "$$\n",
    "where intermediate failure events $F_j$, $j=1,\\dots,J$ are sorted such that $F_1\\supset F_2 \\supset \\cdots \\supset F_J=F$ with associated intermediate threshold levels $b_j$ for which $b_1<b_2<\\dots<b_J = b$. For this setting, the probability of failure $P_F$ may be expressed as \n",
    "$$\n",
    "\\begin{align}\n",
    "P(F) &= P\\left(\\bigcap_{j=1}^{J} F_j\\right) = P(F_1)\\prod_{j=2}^{J}P(F_{j}|F_{j-1})\n",
    "\\end{align}\n",
    "$$\n",
    "The intermediate threshold levels $\\{ b_j : j=2,\\dots,J\\}$ are chosen adaptively such that the conditional probabilities $\\{ P(F_{j}|F_{j-1}): j=2,\\dots,J\\}$ and $P(F_1)$ are equal to a fixed value $p_0$. \n",
    "\n",
    "Now, SuS preceeds as follows: First, $P(F_1)$ is estimated using crude Monte Carlo simulating based on $N$ samples from $p_X(\\cdot)$, where $N$ should be a value large enough to assess $p_0$ accurately. Second, we set the intermediate threshold level $b_1$ to the $p_0$-quantile of the reponses $\\{g(x_n)\\}_{n=1}^N$, which will define the failure region $F_1$ such that $P(F_1) = p_0$. Third, $P(F_2|F_1)$ is estimated using MCMC based on the seeds/particles $\\{x: g(x) \\leq b_1\\}$ by constructing $N_c = N p_0$ Markov chains with $N_s = 1 / p_0$ states each. Here, we assume that $N p_0$ and $1 / p_0$ are interger values. Fourth, we set the intermediate threshold level $b_2$ to the $p_0$-quantile of the reponses $\\{g(x_n)|F_1\\}_{n=1}^N$, which will define the failure region $F_2$ such that $P(F_2) = p_0$. The process is continued until the failure region $F$ is reached, i.e. until $b_j$ exceeds the threshold level value $b=0$. By choosing, all intermediate threshold levels in this manner, the failure probability $P_F$ can be estimated as:\n",
    "$$\n",
    "\\begin{equation}\n",
    "P_F \\approx p_0^{J-1}\\frac{N_F}{N}\n",
    "\\end{equation}\n",
    "$$\n",
    "where $N_F$ is failure samples at level $J-1$ of SuS. Details on the algorithmitic implementation are given in Papaioannou et al. (2015; sec. 2) for the case of independent, standard normally distributed system variables. In my toolbox ``SuStools``, this function is called ``SuS_aCS``."
   ]
  },
  {
   "cell_type": "code",
   "execution_count": 2,
   "id": "f4be33b7-74ba-4a8f-bef4-f4b223f8b6bd",
   "metadata": {},
   "outputs": [
    {
     "name": "stdout",
     "output_type": "stream",
     "text": [
      "Help on function SuS_aCS in module SuStools:\n",
      "\n",
      "SuS_aCS(N, M, g_func, p0=0.1, pa=0.1, std_opt=0, progress=0)\n",
      "    -------------------------------------------------------------------------------------------------------\n",
      "    Subset Simulation (standard Normal space) using adaptive conditional sampling (Papaioannou et al.,2015)\n",
      "    (https://www.cee.ed.tum.de/era/software/reliability/subset-simulation/)\n",
      "    NB! Failure is defined as g <= 0 (thus negative values), as in the paper.\n",
      "    -------------------------------------------------------------------------------------------------------\n",
      "    Input:\n",
      "    * N - subset samples (N*p0 and 1/p0 must be positive integers) [scalar]\n",
      "    * M - random variables/dimensions [scalar]\n",
      "    * g_func - limit state function (possible transformations are conducted inside this object)\n",
      "    * p0 - conditional probability of each subset (N*p0 and 1/p0 must be positive integers) [scalar]\n",
      "    * pa - adaption ratio (default 0.1) [scaler]\n",
      "    * std_opt - sigma options (0: constant 1; or 1: sample estimate) [0,1] \n",
      "    -------------------------------------------------------------------------------------------------------\n",
      "    Output:\n",
      "    * pf_SuS - subset failure probability estimate\n",
      "    * CoV_SuS - coefficient of variation of subset estimate \n",
      "    * pflist - list of imtermediate failure probabilities\n",
      "    * blist - list intermediate threshold levels \n",
      "    * glist - list of limit state function evaluations per level\n",
      "    * Zlist - list of realizations of the random variables per level\n",
      "    * lam - optimized scaling parameter [scalar]\n",
      "    --------------------------------------------------------------------------------------------------------\n",
      "\n"
     ]
    }
   ],
   "source": [
    "help(sust.SuS_aCS)"
   ]
  },
  {
   "cell_type": "markdown",
   "id": "56d083d8-a1e2-41b5-a0f3-e7faddf788f7",
   "metadata": {},
   "source": [
    "# Adaptive conditional sampling\n",
    "\n",
    "In the adaptive conditional sampling (aCS) algorithm of Papaioannou et al. (2015), as in any Markov chain, a proposal state $\\mathbf{v} = \\{ v_m \\}_{m=1}^M$ is sampled conditional on a current state $\\mathbf{u} = \\{ u_m \\}_{m=1}^M$. However, opposed to standard Metropolis-like samplers, a joint Gaussian distribution is imposed on $u$ and $v$ with component-wise cross-correlation coefficient $\\rho_m$, whereby a close-form expression for the proposal distribution can be derived using the general rules for conditioning Gaussian random vectors, i.e., \n",
    "$$\n",
    "v_m \\sim \\mathcal{N}( \\rho_m u_m, \\sqrt{1-\\rho_m^2});\n",
    "$$ \n",
    "thus $v_m$ forllows a Gaussian distribution with mean value $\\mu_{m} = \\rho_m u_m$ and standard deviation $\\sigma_{m} = \\sqrt{1-\\rho_m^2}$. Note that it has been proven (Papaioannou et al.,2015; Au, 2016) that this procedure satisfies the detailed balance condition. \n",
    "\n",
    "The correlation coefficients $\\{\\rho_m\\}_{m=1}^M$ are the tuning parameters of the algorithm, since they control the correlation and thus acceptance rate of the chains. When studying the efficiency of the algorithm, the mean acceptance rate $\\hat{a}$ is introduced as the average number of accepted samples divided by the length of each chain. In terms of efficiency, the optimal value of the mean acceptance rate $a^*$ is arround 0.44 (Papaioannou et al.,2015). The aCS scheme, suggest to adapt the $\\rho$-values within each level of SuS as follows: A fraction $N_a$ of the $N_s$ Markov chains are simulated. Then, the values $\\{\\sigma_m\\}$ (or correspondingly $\\{\\rho_m\\}$) are updated such that $\\hat{a}$ becomes closer to the optimal value. This process is repeated through the $N_s/N_a$ iterations of one SuS level. At each iteration, the update of $\\{\\sigma_m\\}$ are performed as \n",
    "$$\n",
    "\\sigma_{m,iter} = \\lambda_{iter} \\sigma_{0,m}\n",
    "$$\n",
    "where $\\sigma_{0,m}$ is an initial scaling chosen by the user, and $\\lambda_{iter}$ is a scaling factor defined as $\\log \\lambda_{iter+1} = \\log \\lambda_{iter} + iter^{-1/2} \\left( \\mathbb{E}_{iter}[\\hat{a}] - a^* \\right)$. Details on the algorithmitic implementation are given in Papaioannou et al. (2015; sec. 2) for the case of independent, standard normally distributed system variables. In my toolbox ``SuStools``, this function is called ``aCS``.\n",
    "\n",
    "***\n",
    "Au, S. (2016). On MCMC algorithm for subset simulation, Probabilistic Engineering Mechanics, 43, 117–120.\n",
    "***"
   ]
  },
  {
   "cell_type": "code",
   "execution_count": 3,
   "id": "1b9a1ab8-55a8-49e4-bb40-d03804bed246",
   "metadata": {},
   "outputs": [
    {
     "name": "stdout",
     "output_type": "stream",
     "text": [
      "Help on function aCS in module SuStools:\n",
      "\n",
      "aCS(N, lam0, b0, z0, g_func, pa=0.1, std_opt=0)\n",
      "    ---------------------------------------------------------------------------\n",
      "    Adaptive conditional sampling algorithm of Papaioannou et al. (2015)\n",
      "    (https://www.cee.ed.tum.de/era/software/reliability/subset-simulation/)\n",
      "    NB! Failure is defined as g <= 0 (thus negative values), as in the paper.\n",
      "    ---------------------------------------------------------------------------\n",
      "    Input:\n",
      "    * N - subset samples (default 1000) [scalar]\n",
      "    * lam0 - scaling parameter (e.g., 0.6; or from previous subset) [scalar]\n",
      "    * b0 - intermediate threshold level (e.g., 10%-quantile) [scalar]\n",
      "    * z0 - seeds used to generate the new samples (seeds corr. b0) [Nc x M array]\n",
      "    * g_func - limit state function in z-space (limit state function) [func.]\n",
      "    * pa - adaption ratio (default 0.1) [scaler]\n",
      "    * std_opt - sigma options (0: constant 1; or 1: sample estimate) [0,1] \n",
      "    ---------------------------------------------------------------------------\n",
      "    Output:\n",
      "    * z1 - next level samples [N x M array]\n",
      "    * g1 - limit state function evaluations of the new samples [N array]\n",
      "    * lam1 - next scaling parameter lambda [scaler]\n",
      "    * sigma - spread of the proposal [scalar]\n",
      "    * acc - acceptance rate of the method [scaler]\n",
      "    ---------------------------------------------------------------------------\n",
      "\n"
     ]
    }
   ],
   "source": [
    "help(sust.aCS)"
   ]
  },
  {
   "cell_type": "markdown",
   "id": "b754b681-e209-469b-a613-2b58e4ab3f50",
   "metadata": {},
   "source": [
    "# Numerical examples\n",
    "\n",
    "In the following, we will solve some examples from Au & Wang (2014) and Papaioannou et al. (2015) to showcase how my toolbox can be used to perform subset simulation for rare event problems."
   ]
  },
  {
   "cell_type": "code",
   "execution_count": 4,
   "id": "5a3304d0-84b1-4f0d-ab27-010d008fde36",
   "metadata": {},
   "outputs": [],
   "source": [
    "# limit state function\n",
    "def g_p15_ex1(z):\n",
    "    '''\n",
    "    Example 1 from Papaioannou et al. (2015; sec. 4.1)\n",
    "    '''\n",
    "    beta = 3.719 # pf =~ 1e-4 (ss.norm().cdf(-3.719))\n",
    "    return(-1/np.sqrt(len(z)) * np.sum(z) + beta)\n",
    "\n",
    "def g_p15_ex2a(z):\n",
    "    '''\n",
    "    Example 2a from Papaioannou et al. (2015; sec. 4.2)\n",
    "    '''\n",
    "    lam_pam = 1\n",
    "    Ca = 17.7820 # Corr. pf=1e-4 for M=5=len(z) (shape), lam_pam=1 (inverse scale), i.e., ss.gamma(a=M, scale=1/lam_pam).ppf(1-1e-4)\n",
    "    # Ca = 141.53 # Corr. pf=1e-4 for M=100=len(z) (shape), lam_pam=1 (inverse scale), i.e., ss.gamma(a=M, scale=1/lam_pam).ppf(1-1e-4)\n",
    "    u = ss.norm().cdf(z) # probability transform to u-space (uniform \\in [0,1])\n",
    "    x = ss.expon(scale = 1 / lam_pam).ppf(u) # probability transform to x-space (exponentially distribited variables with lam=1)\n",
    "    return(Ca - sum(x)) # pf 1-ss.gamma(a=M, scale=1/lam_pam).cdf(Ca)\n",
    "\n",
    "def g_p15_ex2b(z):\n",
    "    '''\n",
    "    Example 2a from Papaioannou et al. (2015; sec. 4.2)\n",
    "    '''\n",
    "    lam_pam = 1\n",
    "    Cb = 0.44446 # Corr. pf=1e-4 for M=5=len(z) (shape), lam_pam=1 (inverse scale), i.e., ss.gamma(a=M, scale=1/lam_pam).ppf(1e-4)\n",
    "    # Cb = 67.0077 # Corr. pf=1e-4 for M=100=len(z) (shape), lam_pam=1 (inverse scale), i.e., ss.gamma(a=M, scale=1/lam_pam).ppf(1e-4)\n",
    "    u = ss.norm().cdf(z) # probability transform to u-space (uniform \\in [0,1])\n",
    "    x = ss.expon(scale = 1 / lam_pam).ppf(u) # probability transform to x-space (exponentially distribited variables with lam=1)\n",
    "    return(-Cb + sum(x)) # pf ss.gamma(a=M, scale=1/lam_pam).cdf(Cb)\n",
    "\n",
    "def g_a14_ex52(z):\n",
    "    '''\n",
    "    Example 5.2 from Au & Wang (2014; sec. 5.2)\n",
    "    '''\n",
    "    b = 7.221 # pf ~ 1e-4 # x_test = np.arange(0.05, 100.05, 0.1); 2*np.sum( ss.norm().cdf(-7.221/x_test) * ss.norm.pdf(x_test) ) * 0.1\n",
    "    return(b - np.prod(z))\n",
    "\n",
    "def g_a14_ex53(z):\n",
    "    '''\n",
    "    Example 5.3 (Brownian process) from Au & Wang (2014; sec. 5.2)\n",
    "    '''\n",
    "    dt = 1\n",
    "    T = 100 # (=M)\n",
    "    b = 38.905 # pf ~ 1e-4 # 2*ss.norm.cdf(-38.905/np.sqrt(100))\n",
    "    return(b - np.max(np.cumsum(z)))\n",
    "\n",
    "# # test\n",
    "# test = np.random.normal(size=(10,100))\n",
    "# g_ex1(test[0,:])"
   ]
  },
  {
   "cell_type": "markdown",
   "id": "4402b997-0392-4e69-88a0-73b6750008ec",
   "metadata": {},
   "source": [
    "## First level of SuS with ``SuStools.aCS`` and ``SuStools.CoV2_subset`` for ``g_p15_ex1``\n",
    "\n",
    "### Conditional sampling for first subset level with ``SuStools.aCS``"
   ]
  },
  {
   "cell_type": "code",
   "execution_count": 5,
   "id": "5369a446-c844-4bdd-8a37-901e07cda489",
   "metadata": {},
   "outputs": [
    {
     "name": "stdout",
     "output_type": "stream",
     "text": [
      "First thresshold level:  2.4149172310855245\n"
     ]
    },
    {
     "data": {
      "image/png": "[encoded data removed]",
      "text/plain": [
       "<Figure size 640x480 with 1 Axes>"
      ]
     },
     "metadata": {},
     "output_type": "display_data"
    }
   ],
   "source": [
    "# test conditional sampler\n",
    "np.random.seed(42)\n",
    "N_test = 1000; M_test = 5; Nc_test = int(N_test*0.1)\n",
    "z_test = np.random.normal(size=(N_test,M_test)); g_test = np.array([g_p15_ex1(z_test[i,:]) for i in range(z_test.shape[0])])\n",
    "ids_test = np.argsort(g_test); z0_test = (z_test[ids_test, :])[:Nc_test, :]; g0_test = (g_test[ids_test])[:Nc_test]\n",
    "b0_test = np.percentile(g_test[ids_test], 0.1*100)\n",
    "\n",
    "z1_test, g1_test, lam1_test, sigma_test, acc_test = sust.aCS(N=N_test, lam0=1, b0=b0_test, z0 = z0_test, g_func = g_p15_ex1, pa=0.1, std_opt=0)\n",
    "print('First thresshold level: ', b0_test); \n",
    "plt.hist(g_test, density=True, color='y'); plt.hist(g0_test, density=True, color='b'); plt.hist(g1_test, density=True, color='r')\n",
    "plt.legend(['Initial sample', 'Next-level seeds', 'New sample'])\n",
    "plt.show()"
   ]
  },
  {
   "cell_type": "markdown",
   "id": "8e6a8c8b-3ad7-44d2-a8b2-2b33b1cb4ff9",
   "metadata": {},
   "source": [
    "### Coefficient of variation for conditional probability estimate of first subset level with ``SuStools.CoV2_subset``"
   ]
  },
  {
   "cell_type": "code",
   "execution_count": 6,
   "id": "72c1dc47-471f-4361-a935-3aa1a927d827",
   "metadata": {},
   "outputs": [
    {
     "name": "stdout",
     "output_type": "stream",
     "text": [
      "Help on function CoV2_subset in module SuStools:\n",
      "\n",
      "CoV2_subset(g1, b1, Nc, Ns)\n",
      "    ----------------------------------------------------------------------------------------------------\n",
      "    Approximate, squared coefficient of variation for subset conditional probability, see e.g.,\n",
      "    [1] Au & Beck (2001), Estimation of small failure probabilities in high dimensions by subset simulation\n",
      "    [2] Zuev et al. (2012) - Bayesian Post-Processor and other Enhancements of Subset Simulation for \n",
      "    Estimating Failure Probabilities in High Dimensions\n",
      "    ----------------------------------------------------------------------------------------------------\n",
      "    Input:\n",
      "    * g_val - limit state function evaluations (not sorted, i.e., grouped acc. to chains)\n",
      "    * Nc - number of Markov chains (seeds)\n",
      "    * Ns - number of samples simulated from each Markov chain (N/Nc)\n",
      "    ----------------------------------------------------------------------------------------------------\n",
      "    Output:\n",
      "    * CoV - coeffiecient of variation for subset level\n",
      "    ----------------------------------------------------------------------------------------------------\n",
      "\n"
     ]
    }
   ],
   "source": [
    "help(sust.CoV2_subset)"
   ]
  },
  {
   "cell_type": "code",
   "execution_count": 7,
   "id": "d9419976-ff94-4b03-bec4-39630cfb9a5b",
   "metadata": {},
   "outputs": [
    {
     "name": "stdout",
     "output_type": "stream",
     "text": [
      "CoV:  0.10548065145319618\n"
     ]
    }
   ],
   "source": [
    "# test computation of coefficient of variation\n",
    "print('CoV: ', np.sqrt( sust.CoV2_subset(g1_test, np.percentile(g1_test, 0.1*100), 100, 10)) ) # help(sust.CoV2_subset)"
   ]
  },
  {
   "cell_type": "markdown",
   "id": "bf449d9d-398e-4fef-8988-2d772be07189",
   "metadata": {},
   "source": [
    "## Full SuS runs with ``SuStools.SuS_aCS`` for all examples\n",
    "\n",
    "### SuS for ``g_p15_ex1`` ($P_f = 10^{-4}$)"
   ]
  },
  {
   "cell_type": "code",
   "execution_count": 8,
   "id": "b33b3dc2-3280-430c-bbca-2e13f358c073",
   "metadata": {},
   "outputs": [
    {
     "name": "stdout",
     "output_type": "stream",
     "text": [
      "\n",
      " Intermediate threshold level  0  =  2.4149172310855245\n",
      "\t*aCS lambda = 0.8187136048190462 \t*aCS sigma = 0.7726794997384836 \t*aCS acc = 0.475\n",
      "\n",
      " Intermediate threshold level  1  =  1.464003512658222\n",
      "\t*aCS lambda = 0.6747996394302772 \t*aCS sigma = 0.6316085150825508 \t*aCS acc = 0.42299999999999993\n",
      "\n",
      " Intermediate threshold level  2  =  0.6708543280618255\n",
      "\t*aCS lambda = 0.539662493452525 \t*aCS sigma = 0.42247203864013505 \t*aCS acc = 0.41\n",
      "\n",
      " Intermediate threshold level  3  =  0.075499928128409\n",
      "\t*aCS lambda = 0.4836044294614533 \t*aCS sigma = 0.44352831883729743 \t*aCS acc = 0.41900000000000004\n",
      "\n",
      " Intermediate threshold level  4  =  -0.5024166275754816\n",
      "\t*Pf = 7.570000000000002e-05 \t*CoV = [  0.20671607611385578 ;  0.46171763188828163  ]\n"
     ]
    }
   ],
   "source": [
    "np.random.seed(42)\n",
    "res_p15_ex1 = sust.SuS_aCS(1000, 5, g_p15_ex1, p0=0.1, pa=0.1, std_opt=1, progress=1)"
   ]
  },
  {
   "cell_type": "code",
   "execution_count": 9,
   "id": "6c03877b-060e-4d94-9e1b-fa5f58c769b8",
   "metadata": {},
   "outputs": [
    {
     "name": "stdout",
     "output_type": "stream",
     "text": [
      "iteration:  0 /100\n",
      "iteration:  10 /100\n",
      "iteration:  20 /100\n",
      "iteration:  30 /100\n",
      "iteration:  40 /100\n",
      "iteration:  50 /100\n",
      "iteration:  60 /100\n",
      "iteration:  70 /100\n",
      "iteration:  80 /100\n",
      "iteration:  90 /100\n",
      "Mean:  9.838700000000005e-05\n",
      "CoV:  0.3109870250400605\n"
     ]
    }
   ],
   "source": [
    "# Benchmark\n",
    "np.random.seed(42)\n",
    "pfs_p15_ex1 = list()\n",
    "for t in range(100):\n",
    "    if np.mod(t,10)==True:\n",
    "        print('iteration: ', t-1, '/100')\n",
    "    pfs_p15_ex1.append(sust.SuS_aCS(1000, 5, g_p15_ex1, p0=0.1, pa=0.1, std_opt=1, progress=0)[0])\n",
    "    \n",
    "print('Mean: ', np.mean(pfs_p15_ex1))\n",
    "print('CoV: ', np.std(pfs_p15_ex1)/np.mean(pfs_p15_ex1))"
   ]
  },
  {
   "cell_type": "markdown",
   "id": "91d99a4e-971e-4385-b4a3-d25ea8665053",
   "metadata": {},
   "source": [
    "### SuS for ``g_p15_ex2a`` ($P_f = 10^{-4}$)"
   ]
  },
  {
   "cell_type": "code",
   "execution_count": 10,
   "id": "bf986cbf-347b-49c5-ae7c-2b2553daa039",
   "metadata": {},
   "outputs": [
    {
     "name": "stdout",
     "output_type": "stream",
     "text": [
      "\n",
      " Intermediate threshold level  0  =  9.886478848071935\n",
      "\t*aCS lambda = 0.6885555146659218 \t*aCS sigma = 0.7591126226305797 \t*aCS acc = 0.45\n",
      "\n",
      " Intermediate threshold level  1  =  6.343657707018835\n",
      "\t*aCS lambda = 0.4761221468772211 \t*aCS sigma = 0.5911463231145093 \t*aCS acc = 0.398\n",
      "\n",
      " Intermediate threshold level  2  =  3.0296260395073804\n",
      "\t*aCS lambda = 0.3104480315029464 \t*aCS sigma = 0.3806948781762093 \t*aCS acc = 0.38199999999999995\n",
      "\n",
      " Intermediate threshold level  3  =  0.252642144718898\n",
      "\t*aCS lambda = 0.27447862519921407 \t*aCS sigma = 0.41715152703104086 \t*aCS acc = 0.418\n",
      "\n",
      " Intermediate threshold level  4  =  -2.4305611097348443\n",
      "\t*Pf = 7.930000000000003e-05 \t*CoV = [  0.21457597817563182 ;  0.4788843716321281  ]\n"
     ]
    }
   ],
   "source": [
    "np.random.seed(42)\n",
    "res_p15_ex2a = sust.SuS_aCS(1000, 5, g_p15_ex2a, p0=0.1, pa=0.1, std_opt=1, progress=1)"
   ]
  },
  {
   "cell_type": "markdown",
   "id": "dd283f5d-c757-439d-968e-81d79be39287",
   "metadata": {},
   "source": [
    "### SuS for ``g_p15_ex2b`` ($P_f = 10^{-4}$)"
   ]
  },
  {
   "cell_type": "code",
   "execution_count": 11,
   "id": "200319ef-be40-4aff-8f6a-4f854312afbb",
   "metadata": {},
   "outputs": [
    {
     "name": "stdout",
     "output_type": "stream",
     "text": [
      "\n",
      " Intermediate threshold level  0  =  1.9392476170295028\n",
      "\t*aCS lambda = 1.019826694511349 \t*aCS sigma = 0.7634501749450396 \t*aCS acc = 0.5229999999999999\n",
      "\n",
      " Intermediate threshold level  1  =  0.9051987501673623\n",
      "\t*aCS lambda = 0.8574853714588168 \t*aCS sigma = 0.6543992471917266 \t*aCS acc = 0.413\n",
      "\n",
      " Intermediate threshold level  2  =  0.34084651173925357\n",
      "\t*aCS lambda = 0.8195703716675922 \t*aCS sigma = 0.4757110086837958 \t*aCS acc = 0.442\n",
      "\n",
      " Intermediate threshold level  3  =  0.023775504336559894\n",
      "\t*aCS lambda = 0.6852936590192535 \t*aCS sigma = 0.408438719104642 \t*aCS acc = 0.41\n",
      "\n",
      " Intermediate threshold level  4  =  -0.13987705941563544\n",
      "\t*Pf = 7.320000000000002e-05 \t*CoV = [  0.21203566128069057 ;  0.4729771156493787  ]\n"
     ]
    }
   ],
   "source": [
    "np.random.seed(42)\n",
    "res_p15_ex2a = sust.SuS_aCS(1000, 5, g_p15_ex2b, p0=0.1, pa=0.1, std_opt=1, progress=1)"
   ]
  },
  {
   "cell_type": "markdown",
   "id": "d49678c5-59cb-4877-94b4-8afcce7c0ec5",
   "metadata": {},
   "source": [
    "### SuS for ``g_a14_ex52`` ($P_f = 10^{-4}$)"
   ]
  },
  {
   "cell_type": "code",
   "execution_count": 12,
   "id": "b070ccf9-407f-46ef-bf5e-c2803e2e15eb",
   "metadata": {},
   "outputs": [
    {
     "name": "stdout",
     "output_type": "stream",
     "text": [
      "\n",
      " Intermediate threshold level  0  =  6.155153554374246\n",
      "\t*aCS lambda = 0.48540308116612674 \t*aCS sigma = 0.6913989545268165 \t*aCS acc = 0.425\n",
      "\n",
      " Intermediate threshold level  1  =  4.109110760284805\n",
      "\t*aCS lambda = 0.25491057249514343 \t*aCS sigma = 0.47581312597299386 \t*aCS acc = 0.35\n",
      "\n",
      " Intermediate threshold level  2  =  1.7846448125414414\n",
      "\t*aCS lambda = 0.17627031865330123 \t*aCS sigma = 0.40605791136769703 \t*aCS acc = 0.395\n",
      "\n",
      " Intermediate threshold level  3  =  -0.06323996215604091\n",
      "\t*Pf = 0.00011300000000000004 \t*CoV = [  0.19083952304623397 ;  0.38101662951706067  ]\n"
     ]
    }
   ],
   "source": [
    "np.random.seed(42)\n",
    "res_a14_ex52 = sust.SuS_aCS(1000, 2, g_a14_ex52, p0=0.1, pa=0.1, std_opt=1, progress=1)"
   ]
  },
  {
   "cell_type": "code",
   "execution_count": 13,
   "id": "341f2ca2-36bd-42f9-9f59-e3ef728ee896",
   "metadata": {},
   "outputs": [
    {
     "data": {
      "image/png": "[encoded data removed]",
      "text/plain": [
       "<Figure size 640x480 with 1 Axes>"
      ]
     },
     "metadata": {},
     "output_type": "display_data"
    }
   ],
   "source": [
    "Z_a14_ex52_failure = res_a14_ex52[-2][-1][res_a14_ex52[-3][-1]<=0,:]\n",
    "# plot failure samples\n",
    "plt.plot(Z_a14_ex52_failure[:,0], Z_a14_ex52_failure[:,1], '*', label = 'Failure samples ($g(x) \\leq 0$)')\n",
    "# plot g(x) <= 0 conture\n",
    "xx_a14_ex52, yy_a14_ex52 = np.meshgrid(np.arange(np.min(Z_a14_ex52_failure[:,0]), np.max(Z_a14_ex52_failure[:,0]), 0.1), \n",
    "                                       np.arange(np.min(Z_a14_ex52_failure[:,1]), np.max(Z_a14_ex52_failure[:,1]), 0.1))\n",
    "zz_a14_ex52 = (7.221 - xx_a14_ex52 * yy_a14_ex52)\n",
    "plt.contour(xx_a14_ex52, yy_a14_ex52, zz_a14_ex52, levels=np.array([0.0001]))\n",
    "# define axis and legends\n",
    "plt.xlabel('z1')\n",
    "plt.ylabel('z2')\n",
    "plt.legend()\n",
    "plt.grid()\n",
    "plt.show()"
   ]
  },
  {
   "cell_type": "markdown",
   "id": "cde83f61-ad66-4280-a115-b47f70f47069",
   "metadata": {},
   "source": [
    "### SuS for ``g_a14_ex53`` ($P_f = 10^{-4}$)"
   ]
  },
  {
   "cell_type": "code",
   "execution_count": 56,
   "id": "016f12d8-a660-42f2-89cd-8229560452a9",
   "metadata": {},
   "outputs": [
    {
     "name": "stdout",
     "output_type": "stream",
     "text": [
      "\n",
      " Intermediate threshold level  0  =  22.821199071475792\n",
      "\t*aCS lambda = 0.825243324447339 \t*aCS sigma = 0.7999946999028524 \t*aCS acc = 0.484\n",
      "\n",
      " Intermediate threshold level  1  =  12.631724245643786\n",
      "\t*aCS lambda = 0.5532549420068716 \t*aCS sigma = 0.6661624132294728 \t*aCS acc = 0.385\n",
      "\n",
      " Intermediate threshold level  2  =  6.28194968230051\n",
      "\t*aCS lambda = 0.4936085840226635 \t*aCS sigma = 0.48391761029878927 \t*aCS acc = 0.429\n",
      "\n",
      " Intermediate threshold level  3  =  0.6997747620949422\n",
      "\t*aCS lambda = 0.44495504078956055 \t*aCS sigma = 0.4561071776651258 \t*aCS acc = 0.42400000000000004\n",
      "\n",
      " Intermediate threshold level  4  =  -4.648536721470876\n",
      "\t*Pf = 8.020000000000002e-05 \t*CoV = [  0.20832666655999657 ;  0.4652688776241354  ]\n"
     ]
    }
   ],
   "source": [
    "np.random.seed(42)\n",
    "res_a14_ex53 = sust.SuS_aCS(1000, 100, g_a14_ex53, p0=0.1, pa=0.1, std_opt=1, progress=1)"
   ]
  }
 ],
 "metadata": {
  "kernelspec": {
   "display_name": "Python 3 (ipykernel)",
   "language": "python",
   "name": "python3"
  },
  "language_info": {
   "codemirror_mode": {
    "name": "ipython",
    "version": 3
   },
   "file_extension": ".py",
   "mimetype": "text/x-python",
   "name": "python",
   "nbconvert_exporter": "python",
   "pygments_lexer": "ipython3",
   "version": "3.10.8"
  }
 },
 "nbformat": 4,
 "nbformat_minor": 5
}
